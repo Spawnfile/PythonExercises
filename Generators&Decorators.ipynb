{
 "cells": [
  {
   "cell_type": "code",
   "execution_count": 1,
   "metadata": {},
   "outputs": [
    {
     "name": "stdout",
     "output_type": "stream",
     "text": [
      "Done\n"
     ]
    }
   ],
   "source": [
    "print(\"Done\")"
   ]
  },
  {
   "cell_type": "markdown",
   "metadata": {},
   "source": [
    "## Generators"
   ]
  },
  {
   "cell_type": "code",
   "execution_count": 13,
   "metadata": {},
   "outputs": [
    {
     "name": "stdout",
     "output_type": "stream",
     "text": [
      "[1, 4, 9, 16, 25]\n",
      "<generator object square_numbers_generator at 0x000001F19BB3BBA0>\n",
      "1\n",
      "4\n",
      "9\n",
      "16\n",
      "25\n"
     ]
    },
    {
     "data": {
      "text/plain": [
       "<generator object <genexpr> at 0x000001F19BB3B040>"
      ]
     },
     "execution_count": 13,
     "metadata": {},
     "output_type": "execute_result"
    }
   ],
   "source": [
    "# Without a generator solution\n",
    "def square_numbers(nums):\n",
    "    result = list()\n",
    "    for i in nums:\n",
    "        result.append(i*i)\n",
    "    return result\n",
    "\n",
    "my_nums = square_numbers([1,2,3,4,5])\n",
    "print(my_nums)\n",
    "\n",
    "# ------------------------------------------------\n",
    "# With a generator solution\n",
    "def square_numbers_generator(nums):\n",
    "    for i in nums:\n",
    "        yield (i*i)\n",
    "\n",
    "my_nums_from_generator = square_numbers_generator([1,2,3,4,5])\n",
    "print(my_nums_from_generator) # this returns a generator object\n",
    "# print(next(my_nums_from_generator))\n",
    "# print(next(my_nums_from_generator))\n",
    "# print(next(my_nums_from_generator))\n",
    "# print(next(my_nums_from_generator))\n",
    "# print(next(my_nums_from_generator))\n",
    "# print(next(my_nums_from_generator)) # out of the list, throws stop iteration error\n",
    "\n",
    "for num in my_nums_from_generator:\n",
    "    print(num)\n",
    "\n",
    "# ------------------------------------------------\n",
    "\n",
    "my_nums = (x*x for x in [1,2,3,4,5]) # with [] this operation returns a list as an output, but with () returns a generator object\n",
    "my_nums\n",
    "\n",
    "# One of the biggest advantages of decorators is that less memory consumption and execution time compared with same operation that returns a list !!"
   ]
  },
  {
   "cell_type": "markdown",
   "metadata": {},
   "source": [
    "## Decorators"
   ]
  },
  {
   "cell_type": "code",
   "execution_count": 37,
   "metadata": {},
   "outputs": [
    {
     "name": "stdout",
     "output_type": "stream",
     "text": [
      "Wrapper executed this before display_info\n",
      "display_info ran with arguments (John, 25)\n",
      "Wrapper executed this before display -- Class Decorator\n",
      "Display function ran -- Class Decorator\n",
      "Wrapper executed this before display_info -- Class Decorator\n",
      "display_info ran with arguments (John, 25) -- -- Class Decorator\n"
     ]
    }
   ],
   "source": [
    "\"\"\"\n",
    "Notes;\n",
    "\n",
    "- Inner function (nested functions) on python are used to various use cases like Encapsulation which means hiding the function from outside. \n",
    "On the below example, outer function protects inner_function of calling from outside.\n",
    "- Using decorators allows us to add more functionality to our functions. Added attributes usually located in wrapper function ( inner function )\n",
    "\"\"\"\n",
    "def outer_function(msg):\n",
    "    def inner_function():\n",
    "        print(msg)\n",
    "    return inner_function\n",
    "\n",
    "hi_func = outer_function('hi')\n",
    "bye_func = outer_function('bye')\n",
    "\n",
    "# hi_func()\n",
    "# bye_func()\n",
    "\n",
    "# -------------------- FUNCTION DECORATORS ------------------------\n",
    "\n",
    "def decorator_function(original_function):\n",
    "    def wrapper_function(*args, **kwargs):\n",
    "        print(f\"Wrapper executed this before {original_function.__name__}\")\n",
    "        return original_function(*args, **kwargs)\n",
    "    return wrapper_function\n",
    "\n",
    "def display():\n",
    "    print(\"Display function ran\")\n",
    "\n",
    "\n",
    "decorated_display = decorator_function(display)\n",
    "# decorated_display()\n",
    "\n",
    "# Decorator code usage\n",
    "\n",
    "@decorator_function\n",
    "def display():\n",
    "    print(\"Display function ran\")\n",
    "\n",
    "# display()\n",
    "\n",
    "# ------------------------\n",
    "\n",
    "@decorator_function\n",
    "def display_info(name, age):\n",
    "    print(f\"display_info ran with arguments ({name}, {age})\")\n",
    "\n",
    "display_info('John', 25)\n",
    "\n",
    "\n",
    "# -------------------- CLASS DECORATORS ------------------------\n",
    "\n",
    "class decorator_class(object): # classes are can be used as decorators as well. \n",
    "    def __init__(self, original_function):\n",
    "        self.original_function = original_function\n",
    "\n",
    "    def __call__(self, *args, **kwargs): # behave like wrapper function\n",
    "        print(f\"Wrapper executed this before {self.original_function.__name__} -- Class Decorator\")\n",
    "        return self.original_function(*args, **kwargs)\n",
    "\n",
    "\n",
    "@decorator_class\n",
    "def display():\n",
    "    print(\"Display function ran -- Class Decorator\")\n",
    "\n",
    "display()\n",
    "\n",
    "@decorator_class\n",
    "def display_info(name, age):\n",
    "    print(f\"display_info ran with arguments ({name}, {age}) -- -- Class Decorator\")\n",
    "\n",
    "display_info('John', 25)"
   ]
  },
  {
   "cell_type": "markdown",
   "metadata": {},
   "source": [
    "#### CONTINUE WITH FUNCTION DECORATORS "
   ]
  },
  {
   "cell_type": "code",
   "execution_count": 48,
   "metadata": {},
   "outputs": [
    {
     "name": "stdout",
     "output_type": "stream",
     "text": [
      "display_info ran with arguments (Test, 21)\n",
      "display_info ran in 0.0 sec.\n",
      "display_info ran with arguments (Test, 21)\n"
     ]
    }
   ],
   "source": [
    "def my_logger(orig_func):\n",
    "    import logging\n",
    "    logging.basicConfig(filename=f\"{orig_func.__name__}.log\", level=logging.INFO)\n",
    "\n",
    "    def wrapper(*args, **kwargs):\n",
    "        logging.info(f\"Ran with args {args}, and kwargs {kwargs}\")\n",
    "        return orig_func(*args, **kwargs)\n",
    "\n",
    "    return wrapper \n",
    "\n",
    "\n",
    "def my_timer(orig_func):\n",
    "    import time\n",
    "\n",
    "    def wrapper(*args, **kwargs):\n",
    "        t1 = time.time()\n",
    "        result = orig_func(*args, **kwargs)\n",
    "        t2 = time.time() - t1\n",
    "        print(f\"{orig_func.__name__} ran in {t2} sec.\")\n",
    "        return orig_func(*args, **kwargs)\n",
    "    \n",
    "    return wrapper\n",
    "\n",
    "@my_logger\n",
    "def display():\n",
    "    print(\"Display function ran\")\n",
    "\n",
    "\n",
    "# display()\n",
    "\n",
    "@my_logger # this logger state logs the function name wrapper. to avoid that problem we use a library called functools \n",
    "@my_timer\n",
    "def display_info(name, age):\n",
    "    print(f\"display_info ran with arguments ({name}, {age})\")\n",
    "\n",
    "# this stack equals to,\n",
    "# display_info = my_logger(my_timer(display_info))\n",
    "display_info('Test', 21)"
   ]
  },
  {
   "cell_type": "markdown",
   "metadata": {},
   "source": [
    "#### Functools library"
   ]
  },
  {
   "cell_type": "code",
   "execution_count": 51,
   "metadata": {},
   "outputs": [
    {
     "name": "stdout",
     "output_type": "stream",
     "text": [
      "display_info ran with arguments (Alper, 26) -- Functools\n",
      "display_info ran in 1.007265329360962 sec.\n",
      "display_info ran with arguments (Alper, 26) -- Functools\n"
     ]
    }
   ],
   "source": [
    "from functools import wraps\n",
    "\n",
    "def my_logger(orig_func):\n",
    "    import logging\n",
    "    logging.basicConfig(filename=f\"{orig_func.__name__}.log\", level=logging.INFO)\n",
    "\n",
    "    @wraps(orig_func)\n",
    "    def wrapper(*args, **kwargs):\n",
    "        logging.info(f\"Ran with args {args}, and kwargs {kwargs}\")\n",
    "        return orig_func(*args, **kwargs)\n",
    "\n",
    "    return wrapper \n",
    "\n",
    "\n",
    "def my_timer(orig_func):\n",
    "    import time\n",
    "    \n",
    "    @wraps(orig_func)\n",
    "    def wrapper(*args, **kwargs):\n",
    "        t1 = time.time()\n",
    "        time.sleep(1)\n",
    "        result = orig_func(*args, **kwargs)\n",
    "        t2 = time.time() - t1\n",
    "        print(f\"{orig_func.__name__} ran in {t2} sec.\")\n",
    "        return orig_func(*args, **kwargs)\n",
    "    \n",
    "    return wrapper\n",
    "    \n",
    "@my_logger \n",
    "@my_timer\n",
    "def display_info(name, age):\n",
    "    print(f\"display_info ran with arguments ({name}, {age}) -- Functools\")\n",
    "\n",
    "display_info('Alper', 26)"
   ]
  },
  {
   "cell_type": "code",
   "execution_count": null,
   "metadata": {},
   "outputs": [],
   "source": []
  }
 ],
 "metadata": {
  "interpreter": {
   "hash": "0db4859fbaef38eb4aa1dc3b1898c20eac2e2b0fa362fe1aa9a9aa9f90e15974"
  },
  "kernelspec": {
   "display_name": "Python 3.8.10 64-bit (windows store)",
   "language": "python",
   "name": "python3"
  },
  "language_info": {
   "codemirror_mode": {
    "name": "ipython",
    "version": 3
   },
   "file_extension": ".py",
   "mimetype": "text/x-python",
   "name": "python",
   "nbconvert_exporter": "python",
   "pygments_lexer": "ipython3",
   "version": "3.8.10"
  },
  "orig_nbformat": 4
 },
 "nbformat": 4,
 "nbformat_minor": 2
}
