{
 "cells": [
  {
   "cell_type": "code",
   "execution_count": 1,
   "metadata": {},
   "outputs": [
    {
     "name": "stdout",
     "output_type": "stream",
     "text": [
      "OK\n"
     ]
    }
   ],
   "source": [
    "import os\n",
    "print(\"OK\")"
   ]
  },
  {
   "cell_type": "code",
   "execution_count": 2,
   "metadata": {},
   "outputs": [
    {
     "name": "stdout",
     "output_type": "stream",
     "text": [
      "<__main__.Employee object at 0x0000020139354D90>\n",
      "<__main__.Employee object at 0x0000020139354E80>\n"
     ]
    }
   ],
   "source": [
    "# Inefficient way to use classes.\n",
    "\n",
    "class Employee:\n",
    "    pass\n",
    "\n",
    "emp_1 = Employee() # class instance\n",
    "emp_2 = Employee() \n",
    "\n",
    "print(emp_1)\n",
    "print(emp_2)\n",
    "\n",
    "emp_1.first = 'Alper'\n",
    "emp_1.last = 'Ekmekci'\n",
    "emp_1.email = 'alper.ekmekci@hotmail.com'\n",
    "emp_1.pay = 60000\n",
    "\n",
    "# We need eto use classes properly to avoid this type of assignment."
   ]
  },
  {
   "cell_type": "code",
   "execution_count": 3,
   "metadata": {},
   "outputs": [],
   "source": [
    "# Proper usage\n",
    "\n",
    "class Employee:\n",
    "\n",
    "    num_of_emps = 0\n",
    "    raise_amount = 1.04\n",
    "\n",
    "    def __init__(self, first, last, pay):\n",
    "        self.first = first\n",
    "        self.last = last\n",
    "        self.pay = pay\n",
    "        self.email  = first + '.' + last + '@company.com'\n",
    "\n",
    "        Employee.num_of_emps  += 1 # we use Employee ( the whole class ) to increase the number of counter in order to wrap the whole numbers \n",
    "        # as independent to class instances. If we use self in this case, outside print would return 1 every time. !!\n",
    "\n",
    "    def fullname(self):\n",
    "        return f\"{self.first} {self.last}\"\n",
    "\n",
    "    def apply_rise(self):\n",
    "        self.pay = int(self.pay * self.raise_amount)\n",
    "    \n",
    "    @staticmethod # they behave like regular functions and they don't pass anything automatically !!\n",
    "    def is_workday(day):\n",
    "        if day.weekday() == 5 or day.weekday() == 6:\n",
    "            return False\n",
    "        return True\n",
    "\n",
    "    @classmethod\n",
    "    def set_raise_amt(cls, amount): # class method makes the regular method as proper to pass another class instead of class itself (self)\n",
    "        cls.raise_amount = amount\n",
    "    \n",
    "    @classmethod\n",
    "    def from_string(cls, emp_str):\n",
    "        first, last, pay = emp_str.split('-')\n",
    "        return cls(first, last, pay) # In order to get a class instance after the assignment operation done, we need a return statement\n",
    "\n",
    "emp_1 = Employee('Alper', 'Ekmekci', 60000)\n",
    "emp_2 = Employee('Alper_clone', 'Ekmekci_clone', 50000)"
   ]
  },
  {
   "cell_type": "code",
   "execution_count": 4,
   "metadata": {},
   "outputs": [
    {
     "name": "stdout",
     "output_type": "stream",
     "text": [
      "1.06\n",
      "1.06\n",
      "1.06\n",
      "True\n"
     ]
    }
   ],
   "source": [
    "# print(Employee.__dict__) # has raise_amont class variable\n",
    "# print(emp_1.__dict__) # ain't got no raise_amont class variable\n",
    "# emp_1.fullname()\n",
    "\n",
    "# print(emp_1.pay)\n",
    "# emp_1.apply_rise()\n",
    "# print(emp_1.pay)\n",
    "\n",
    "Employee.set_raise_amt(1.06) # equals to Employee.raise_amount = 1.06 on this scenario\n",
    "\n",
    "print(Employee.raise_amount)\n",
    "print(emp_1.raise_amount)\n",
    "print(emp_2.raise_amount)\n",
    "\n",
    "# print(Employee.num_of_emps)\n",
    "\n",
    "# ----------------------------------------------------------------------\n",
    "\n",
    "# Wrong Usage\n",
    "\n",
    "emp_str_1 = \"John-Doe-70000\"\n",
    "emp_str_2 = \"Test-Employee-60000\"\n",
    "emp_str_3 = \"Dummy-Duck-30000\"\n",
    "\n",
    "first, last, pay = emp_str_1.split('-')\n",
    "new_emp_1 = Employee(first, last, pay)\n",
    "\n",
    "# Correct Usage is with @classmethod's \n",
    "\n",
    "new_emp_1 = Employee.from_string(emp_str=emp_str_1)\n",
    "\n",
    "# ----------------------------------------------------------------------\n",
    "\n",
    "import datetime\n",
    "\n",
    "my_date = datetime.date(2022, 3, 14)\n",
    "print(Employee.is_workday(my_date))\n"
   ]
  },
  {
   "cell_type": "code",
   "execution_count": 32,
   "metadata": {},
   "outputs": [
    {
     "name": "stdout",
     "output_type": "stream",
     "text": [
      "True\n",
      "False\n",
      "True\n",
      "True\n",
      "False\n"
     ]
    }
   ],
   "source": [
    "## INHERITANCE\n",
    "\n",
    "class Developer(Employee):\n",
    "    raise_amt = 1.10\n",
    "\n",
    "    def __init__(self, first, last, pay, prog_lang):\n",
    "        super().__init__(first, last, pay) \n",
    "        # we dont want to write down the exact same lines which is self.first = first, self.last = last etc.\n",
    "        # so we need to use super method to let inherited class, which is Employee class in this scenario, handle this repetitive variables. \n",
    "        self.prog_lang = prog_lang\n",
    "\n",
    "dev_1 = Developer('Alper', 'Ekmekci', 60000, 'Python')\n",
    "dev_2 = Developer('Alper_clone', 'Ekmekci_clone', 50000, 'C++')\n",
    "\n",
    "# print(dev_1.pay)\n",
    "# dev_1.apply_rise()\n",
    "# print(dev_1.pay)\n",
    "# dev_1.prog_lang\n",
    "\n",
    "class Manager(Employee):\n",
    "    def __init__(self, first, last, pay, employees=None):\n",
    "        super().__init__(first, last, pay)\n",
    "        if employees is None:\n",
    "            self.employees = []\n",
    "        else:\n",
    "            self.employees = employees\n",
    "\n",
    "    def add_emp(self, emp):\n",
    "        if emp not in self.employees:\n",
    "            self.employees.append(emp)\n",
    "\n",
    "    def remove_emp(self, emp):\n",
    "        if emp in self.employees:\n",
    "            self.employees.remove(emp)\n",
    "\n",
    "    def print_emps(self):\n",
    "        for emp in self.employees:\n",
    "            print(f\"---> {emp.fullname()}\") # we use fullname() function from Employee class, \n",
    "            # in order to do that we need to pass class instances in employees variable\n",
    "\n",
    "\n",
    "manager_1 = Manager('Sue', 'Smith', 90000, [dev_1]) \n",
    "# manager_1.add_emp(dev_2)\n",
    "# manager_1.print_emps()\n",
    "# manager_1.remove_emp(emp_2)\n",
    "# manager_1.print_emps()\n",
    "\n",
    "\n",
    "# ----------------- Built-in functions -----------------\n",
    "print(isinstance(manager_1, Employee)) # True\n",
    "print(isinstance(manager_1, Developer)) # False, they're connected with eachoter with inheritance situation\n",
    "print(issubclass(Developer, Employee)) # is Developer subclass of Employee ? \n",
    "print(issubclass(Manager, Employee))\n",
    "print(issubclass(Employee, Developer))"
   ]
  },
  {
   "cell_type": "code",
   "execution_count": 64,
   "metadata": {},
   "outputs": [
    {
     "name": "stdout",
     "output_type": "stream",
     "text": [
      "<bound method Employee.apply_rise of Employee('Alper', 'Ekmekci, '60000)>\n",
      "Alper Ekmekci - Alper.Ekmekci@company.com\n",
      "110000\n",
      "110000\n",
      "13\n"
     ]
    }
   ],
   "source": [
    "# Magic Dunder Methods\n",
    "\n",
    "# double underscore methods == dunder methods using to change built-in functions behaviours according to what is wanted\n",
    "class Employee:\n",
    "\n",
    "    raise_amount = 1.04\n",
    "\n",
    "    def __init__(self, first, last, pay):\n",
    "        self.first = first\n",
    "        self.last = last\n",
    "        self.pay = pay\n",
    "        self.email  = first + '.' + last + '@company.com'\n",
    "\n",
    "    def fullname(self):\n",
    "        return f\"{self.first} {self.last}\"\n",
    "\n",
    "    def apply_rise(self):\n",
    "        self.pay = int(self.pay * self.raise_amount)\n",
    "\n",
    "    def __repr__(self):\n",
    "        return f\"Employee('{self.first}', '{self.last}, '{self.pay})\"\n",
    "\n",
    "    def __str__(self):\n",
    "        return f\"{self.fullname()} - {self.email}\"\n",
    "\n",
    "    def __add__(self, other):\n",
    "        return self.pay + other.pay\n",
    "\n",
    "    def __len__(self):\n",
    "        return len(self.fullname())\n",
    "\n",
    "emp_1 = Employee('Alper', 'Ekmekci', 60000)\n",
    "emp_2 = Employee('Alper_clone', 'Ekmekci_clone', 50000)\n",
    "\n",
    "# without __repr__ method print returns <__main__.Employee object at 0x000002013960B310>\n",
    "# with __repr__ method print returns what written below __repr__\n",
    "print(emp_1)\n",
    "\n",
    "# print(repr(emp_1))\n",
    "# print(str(emp_1))\n",
    "\n",
    "print(emp_1 + emp_2) # add emp_1's and emp_2's salaries\n",
    "print(Employee.__add__(emp_1, emp_2))\n",
    "print(len(emp_1))\n",
    "\n",
    "# ------------------------------\n",
    "# print(1+2)\n",
    "# print(int.__add__(1, 2))\n",
    "# print(str.__add__('a', 'b'))\n",
    "# ------------------------------"
   ]
  },
  {
   "cell_type": "code",
   "execution_count": 86,
   "metadata": {},
   "outputs": [
    {
     "name": "stdout",
     "output_type": "stream",
     "text": [
      "Alper\n",
      "Alper.Ekmekci@email.com\n",
      "Alper Ekmekci\n",
      "Delete Name!\n"
     ]
    }
   ],
   "source": [
    "# Property Decorators, Getters, Setters and Deleters\n",
    "\n",
    "class Employee:\n",
    "\n",
    "    def __init__(self, first, last):\n",
    "        self.first = first\n",
    "        self.last = last\n",
    "        # self.email  = first + '.' + last + '@company.com' # REMOVED !!\n",
    "\n",
    "    @property\n",
    "    def email(self):\n",
    "        return f\"{self.first}.{self.last}@email.com\" \n",
    "    \n",
    "    @property\n",
    "    def fullname(self):\n",
    "        return f\"{self.first} {self.last}\"\n",
    "\n",
    "    @fullname.setter\n",
    "    def fullname(self, name): # setter function must be a property function outside of setter section\n",
    "        first, last = name.split(\" \")\n",
    "        self.first = first\n",
    "        self.last = last\n",
    "\n",
    "    @fullname.deleter\n",
    "    def fullname(self): # setter function must be a property function outside of setter section\n",
    "        print(\"Delete Name!\")\n",
    "        self.first = None\n",
    "        self.last = None\n",
    "\n",
    "emp_1 = Employee('John', 'Smith')\n",
    "\n",
    "# emp_1.first = 'Jim'\n",
    "emp_1.fullname = 'Alper Ekmekci' # whithout a setter function, this lane throws can't set attribute error\n",
    "\n",
    "print(emp_1.first)\n",
    "# print(emp_1.email()) # by adding email function, our problem has been solved but another error appeared which is who uses this class needs change their code as this line\n",
    "print(emp_1.email) #to solve above problem we need to add PROPERTY above our email function\n",
    "print(emp_1.fullname)\n",
    "del emp_1.fullname"
   ]
  },
  {
   "cell_type": "markdown",
   "metadata": {},
   "source": [
    "## Class Exercises From \n",
    "https://www.my-courses.net/2020/02/exercises-with-solutions-on-oop-object.html"
   ]
  },
  {
   "cell_type": "code",
   "execution_count": 92,
   "metadata": {},
   "outputs": [
    {
     "name": "stdout",
     "output_type": "stream",
     "text": [
      "Perimeter : 24 -- Area : 35\n",
      "----------------------------------\n",
      "the volume of myParallelepipede is:  70\n"
     ]
    }
   ],
   "source": [
    "class Rectangle:\n",
    "    def __init__(self, length, width):\n",
    "        self.length = length\n",
    "        self.width = width\n",
    "\n",
    "    def perimeter(self):\n",
    "        return 2*(self.length + self.width)\n",
    "\n",
    "    def area(self):\n",
    "        return self.length*self.width\n",
    "\n",
    "    def display(self):\n",
    "        print(f\"Perimeter : {self.perimeter()} -- Area : {self.area()}\")\n",
    "\n",
    "class ParallelPipede(Rectangle):\n",
    "    def __init__(self, length, width, height):\n",
    "        super().__init__(length, width)\n",
    "        self.height = height\n",
    "\n",
    "    def volume(self):\n",
    "        return self.area() * self.height\n",
    "\n",
    "\n",
    "myRectangle = Rectangle(7 , 5)\n",
    "myRectangle.display()\n",
    "print(\"----------------------------------\")\n",
    "myParallelepipede = ParallelPipede(7 , 5 , 2)\n",
    "print(\"the volume of myParallelepipede is: \" , myParallelepipede.volume())"
   ]
  },
  {
   "cell_type": "code",
   "execution_count": 95,
   "metadata": {},
   "outputs": [
    {
     "name": "stdout",
     "output_type": "stream",
     "text": [
      "Student Name : Alper -- Student Age : 26 -- Student section : EEM\n"
     ]
    }
   ],
   "source": [
    "class Person:\n",
    "    def __init__(self, name, age):\n",
    "        self.name = name\n",
    "        self.age = age\n",
    "\n",
    "    def display(self):\n",
    "        print(f\"Name : {self.name}\\n Age : {self.age}\")\n",
    "    \n",
    "class Student(Person):\n",
    "    def __init__(self, name, age, section):\n",
    "        super().__init__(name, age)\n",
    "        self.section = section\n",
    "\n",
    "    def displayStudent(self):\n",
    "        print(f\"Student Name : {self.name} -- Student Age : {self.age} -- Student section : {self.section}\")\n",
    "\n",
    "    \n",
    "instance = Student(\"Alper\", 26, 'EEM')\n",
    "instance.displayStudent()"
   ]
  },
  {
   "cell_type": "code",
   "execution_count": null,
   "metadata": {},
   "outputs": [],
   "source": []
  }
 ],
 "metadata": {
  "interpreter": {
   "hash": "0db4859fbaef38eb4aa1dc3b1898c20eac2e2b0fa362fe1aa9a9aa9f90e15974"
  },
  "kernelspec": {
   "display_name": "Python 3.8.10 64-bit (windows store)",
   "language": "python",
   "name": "python3"
  },
  "language_info": {
   "codemirror_mode": {
    "name": "ipython",
    "version": 3
   },
   "file_extension": ".py",
   "mimetype": "text/x-python",
   "name": "python",
   "nbconvert_exporter": "python",
   "pygments_lexer": "ipython3",
   "version": "3.8.10"
  },
  "orig_nbformat": 4
 },
 "nbformat": 4,
 "nbformat_minor": 2
}
